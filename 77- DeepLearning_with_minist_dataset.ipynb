{
 "cells": [
  {
   "cell_type": "code",
   "execution_count": 15,
   "id": "a16e26cc",
   "metadata": {},
   "outputs": [],
   "source": [
    "# Import the Pandas library for data processing and analysis.\n",
    "import pandas as pd  \n",
    "\n",
    "# Import the NumPy library for scientific computations.\n",
    "import numpy as np   \n",
    "\n",
    "# Import the Matplotlib library for data visualization.\n",
    "import matplotlib.pyplot as plt  \n",
    "\n",
    "# Import the TensorFlow library for machine learning and deep learning.\n",
    "import tensorflow as tf   \n",
    "\n",
    "# Import Keras, a high-level neural networks API.\n",
    "from tensorflow import keras   \n",
    "\n",
    "# Import the layer modules of Keras for building neural network layers.\n",
    "from tensorflow.keras import layers"
   ]
  },
  {
   "cell_type": "code",
   "execution_count": 16,
   "id": "e456d610",
   "metadata": {},
   "outputs": [],
   "source": [
    "# Importing train_test_split function from sklearn.model_selection module\n",
    "from sklearn.model_selection import train_test_split \n",
    "\n",
    "# Importing StandardScaler class from sklearn.preprocessing module\n",
    "from sklearn.preprocessing import StandardScaler "
   ]
  },
  {
   "cell_type": "code",
   "execution_count": 44,
   "id": "2b97ab9e",
   "metadata": {},
   "outputs": [],
   "source": [
    "# Loading the MNIST dataset from the keras.datasets module\n",
    "# The dataset consists of 28x28 pixel grayscale images of handwritten digits (0 through 9)\n",
    "# It is commonly used for training various image classification models\n",
    "(X_train, y_train), (X_test, y_test) = keras.datasets.mnist.load_data()"
   ]
  },
  {
   "cell_type": "code",
   "execution_count": 45,
   "id": "02988db5",
   "metadata": {},
   "outputs": [
    {
     "data": {
      "text/plain": [
       "(60000, 28, 28)"
      ]
     },
     "execution_count": 45,
     "metadata": {},
     "output_type": "execute_result"
    }
   ],
   "source": [
    "# Retrieving the shape of the training data array X_train\n",
    "X_train.shape"
   ]
  },
  {
   "cell_type": "code",
   "execution_count": 46,
   "id": "c21bce74",
   "metadata": {},
   "outputs": [
    {
     "data": {
      "text/plain": [
       "(60000, 28, 28, 1)"
      ]
     },
     "execution_count": 46,
     "metadata": {},
     "output_type": "execute_result"
    }
   ],
   "source": [
    "# Adding a new axis to the training data array X_train and X_test\n",
    "# This is done to expand the dimensions of the array to accommodate grayscale images\n",
    "# The new axis is added at the end, effectively converting each 28x28 image into a 28x28x1 array\n",
    "X_train = X_train[..., np.newaxis]\n",
    "X_test = X_test[..., np.newaxis]\n",
    "\n",
    "# Normalizing the pixel values of the training and test data arrays by dividing by 255.0\n",
    "# This scales the pixel values to the range [0, 1], making them suitable for training neural networks\n",
    "X_train = X_train / 255.0\n",
    "X_test = X_test / 255.0\n",
    "\n",
    "# Retrieving the shape of the training data array X_train after preprocessing\n",
    "X_train.shape"
   ]
  },
  {
   "cell_type": "code",
   "execution_count": 47,
   "id": "36703c7f",
   "metadata": {},
   "outputs": [
    {
     "name": "stdout",
     "output_type": "stream",
     "text": [
      "Epoch 1/10\n",
      "\u001b[1m1875/1875\u001b[0m \u001b[32m━━━━━━━━━━━━━━━━━━━━\u001b[0m\u001b[37m\u001b[0m \u001b[1m75s\u001b[0m 39ms/step - accuracy: 0.9265 - loss: 0.2370\n",
      "Epoch 2/10\n",
      "\u001b[1m1875/1875\u001b[0m \u001b[32m━━━━━━━━━━━━━━━━━━━━\u001b[0m\u001b[37m\u001b[0m \u001b[1m75s\u001b[0m 40ms/step - accuracy: 0.9880 - loss: 0.0385\n",
      "Epoch 3/10\n",
      "\u001b[1m1875/1875\u001b[0m \u001b[32m━━━━━━━━━━━━━━━━━━━━\u001b[0m\u001b[37m\u001b[0m \u001b[1m75s\u001b[0m 40ms/step - accuracy: 0.9926 - loss: 0.0232\n",
      "Epoch 4/10\n",
      "\u001b[1m1875/1875\u001b[0m \u001b[32m━━━━━━━━━━━━━━━━━━━━\u001b[0m\u001b[37m\u001b[0m \u001b[1m74s\u001b[0m 39ms/step - accuracy: 0.9952 - loss: 0.0157\n",
      "Epoch 5/10\n",
      "\u001b[1m1875/1875\u001b[0m \u001b[32m━━━━━━━━━━━━━━━━━━━━\u001b[0m\u001b[37m\u001b[0m \u001b[1m76s\u001b[0m 40ms/step - accuracy: 0.9961 - loss: 0.0133\n",
      "Epoch 6/10\n",
      "\u001b[1m1875/1875\u001b[0m \u001b[32m━━━━━━━━━━━━━━━━━━━━\u001b[0m\u001b[37m\u001b[0m \u001b[1m74s\u001b[0m 39ms/step - accuracy: 0.9964 - loss: 0.0114\n",
      "Epoch 7/10\n",
      "\u001b[1m1875/1875\u001b[0m \u001b[32m━━━━━━━━━━━━━━━━━━━━\u001b[0m\u001b[37m\u001b[0m \u001b[1m74s\u001b[0m 40ms/step - accuracy: 0.9975 - loss: 0.0091\n",
      "Epoch 8/10\n",
      "\u001b[1m1875/1875\u001b[0m \u001b[32m━━━━━━━━━━━━━━━━━━━━\u001b[0m\u001b[37m\u001b[0m \u001b[1m71s\u001b[0m 38ms/step - accuracy: 0.9975 - loss: 0.0076\n",
      "Epoch 9/10\n",
      "\u001b[1m1875/1875\u001b[0m \u001b[32m━━━━━━━━━━━━━━━━━━━━\u001b[0m\u001b[37m\u001b[0m \u001b[1m73s\u001b[0m 39ms/step - accuracy: 0.9975 - loss: 0.0077\n",
      "Epoch 10/10\n",
      "\u001b[1m1875/1875\u001b[0m \u001b[32m━━━━━━━━━━━━━━━━━━━━\u001b[0m\u001b[37m\u001b[0m \u001b[1m72s\u001b[0m 39ms/step - accuracy: 0.9983 - loss: 0.0060\n"
     ]
    },
    {
     "data": {
      "text/plain": [
       "<keras.src.callbacks.history.History at 0x227872a0b90>"
      ]
     },
     "execution_count": 47,
     "metadata": {},
     "output_type": "execute_result"
    }
   ],
   "source": [
    "# Creating a sequential model using Keras\n",
    "mdl = keras.Sequential()\n",
    "\n",
    "# Adding a 2D convolutional layer with 128 filters, each with a 3x3 kernel size and ReLU activation function\n",
    "# The input shape is determined by the shape of the training data (excluding the batch size)\n",
    "mdl.add(layers.Conv2D(128, kernel_size=(3, 3), activation=\"relu\", input_shape=X_train.shape[1:]))\n",
    "\n",
    "# Adding a max pooling layer with a 2x2 pooling window\n",
    "# This layer reduces the spatial dimensions of the input volume\n",
    "mdl.add(layers.MaxPool2D(pool_size=(2, 2)))\n",
    "\n",
    "# Adding another 2D convolutional layer with 64 filters and a 3x3 kernel size, followed by ReLU activation\n",
    "mdl.add(layers.Conv2D(64, kernel_size=(3, 3), activation=\"relu\"))\n",
    "\n",
    "# Flattening the output from the convolutional layers into a 1D array\n",
    "mdl.add(layers.Flatten())\n",
    "\n",
    "# Adding a dense layer with 256 neurons and ReLU activation function\n",
    "mdl.add(layers.Dense(256, activation=\"relu\"))\n",
    "\n",
    "# Adding another dense layer with 128 neurons and ReLU activation function\n",
    "mdl.add(layers.Dense(128, activation=\"relu\"))\n",
    "\n",
    "# Adding the output layer with 10 neurons (one for each class) and softmax activation function\n",
    "# Softmax function is used for multi-class classification to obtain class probabilities\n",
    "mdl.add(layers.Dense(10, activation=\"softmax\"))\n",
    "\n",
    "# Compiling the model with the Adam optimizer, sparse categorical crossentropy loss function, and accuracy metric\n",
    "mdl.compile(optimizer=\"adam\", loss=\"sparse_categorical_crossentropy\", metrics=[\"accuracy\"])\n",
    "\n",
    "# Training the model on the training data for 10 epochs\n",
    "mdl.fit(X_train, y_train, epochs=10)\n"
   ]
  },
  {
   "cell_type": "code",
   "execution_count": 48,
   "id": "c98906f9",
   "metadata": {},
   "outputs": [
    {
     "name": "stdout",
     "output_type": "stream",
     "text": [
      "\u001b[1m313/313\u001b[0m \u001b[32m━━━━━━━━━━━━━━━━━━━━\u001b[0m\u001b[37m\u001b[0m \u001b[1m3s\u001b[0m 8ms/step - accuracy: 0.9892 - loss: 0.0583\n"
     ]
    },
    {
     "data": {
      "text/plain": [
       "[0.044828154146671295, 0.9905999898910522]"
      ]
     },
     "execution_count": 48,
     "metadata": {},
     "output_type": "execute_result"
    }
   ],
   "source": [
    "# Evaluate the machine learning model using the test data\n",
    "mdl.evaluate(X_test, y_test)\n"
   ]
  },
  {
   "cell_type": "code",
   "execution_count": 49,
   "id": "5ce4f875",
   "metadata": {},
   "outputs": [
    {
     "name": "stdout",
     "output_type": "stream",
     "text": [
      "\u001b[1m313/313\u001b[0m \u001b[32m━━━━━━━━━━━━━━━━━━━━\u001b[0m\u001b[37m\u001b[0m \u001b[1m3s\u001b[0m 8ms/step\n"
     ]
    },
    {
     "data": {
      "text/plain": [
       "array([7, 2, 1, ..., 4, 5, 6], dtype=int64)"
      ]
     },
     "execution_count": 49,
     "metadata": {},
     "output_type": "execute_result"
    }
   ],
   "source": [
    "# Predict labels for the test data using the machine learning model\n",
    "ypred = mdl.predict(X_test)\n",
    "\n",
    "# Extract the predicted labels from the predicted probabilities\n",
    "ypred_label = np.argmax(ypred, axis=1)\n",
    "\n",
    "# Display the predicted labels\n",
    "ypred_label"
   ]
  },
  {
   "cell_type": "code",
   "execution_count": 50,
   "id": "0f9e956c",
   "metadata": {},
   "outputs": [
    {
     "data": {
      "image/png": "[encoded data removed]",
      "text/plain": [
       "<Figure size 800x300 with 5 Axes>"
      ]
     },
     "metadata": {},
     "output_type": "display_data"
    }
   ],
   "source": [
    "# Set up the figure size for displaying images\n",
    "plt.figure(figsize=(8, 3))\n",
    "\n",
    "# Loop through the first 5 samples in the test data\n",
    "for i in range(5):\n",
    "    # Create a subplot for each sample\n",
    "    plt.subplot(1, 5, i + 1)\n",
    "    \n",
    "    # Display the image of the current sample\n",
    "    plt.imshow(X_test[i].reshape(28, 28), \"gray\")\n",
    "    \n",
    "    # Set the title of the subplot as the predicted label for the current sample\n",
    "    plt.title(ypred_label[i])\n",
    "    \n",
    "    # Turn off axis for better visualization\n",
    "    plt.axis(\"off\")"
   ]
  },
  {
   "cell_type": "code",
   "execution_count": 54,
   "id": "d42d15a2",
   "metadata": {},
   "outputs": [
    {
     "data": {
      "image/png": "[encoded data removed]",
      "text/plain": [
       "<Figure size 800x300 with 1 Axes>"
      ]
     },
     "metadata": {},
     "output_type": "display_data"
    },
    {
     "data": {
      "image/png": "[encoded data removed]",
      "text/plain": [
       "<Figure size 800x300 with 1 Axes>"
      ]
     },
     "metadata": {},
     "output_type": "display_data"
    },
    {
     "data": {
      "image/png": "[encoded data removed]",
      "text/plain": [
       "<Figure size 800x300 with 1 Axes>"
      ]
     },
     "metadata": {},
     "output_type": "display_data"
    },
    {
     "data": {
      "image/png": "[encoded data removed]",
      "text/plain": [
       "<Figure size 800x300 with 1 Axes>"
      ]
     },
     "metadata": {},
     "output_type": "display_data"
    },
    {
     "data": {
      "image/png": "[encoded data removed]",
      "text/plain": [
       "<Figure size 800x300 with 1 Axes>"
      ]
     },
     "metadata": {},
     "output_type": "display_data"
    }
   ],
   "source": [
    "wrong_predict = y_test != ypred_label\n",
    "# Loop through the first 5 wrong predictions\n",
    " # Set up a figure for displaying images\n",
    "for k in range(5):\n",
    "     # Create a subplot for each sample\n",
    "    plt.figure(figsize = (8, 3))\n",
    "    plt.subplot(1, 2, 1)\n",
    "    # Display the image of the wrongly predicted sample\n",
    "    plt.imshow(X_test[wrong_predict][k].reshape(28,28), \"gray\")\n",
    "    \n",
    "    # Set the title of the subplot showing correct and predicted labels\n",
    "    plt.title(f\"Correct : {y_test[wrong_predict][k]} Predict : {ypred_label[wrong_predict][k]}\")\n",
    "    \n",
    "    # Turn off axis for better visualization\n",
    "    plt.axis(\"off\") \n",
    "\n",
    "plt.show()"
   ]
  },
  {
   "cell_type": "code",
   "execution_count": null,
   "id": "82cf8108",
   "metadata": {},
   "outputs": [],
   "source": []
  }
 ],
 "metadata": {
  "kernelspec": {
   "display_name": "Python 3 (ipykernel)",
   "language": "python",
   "name": "python3"
  },
  "language_info": {
   "codemirror_mode": {
    "name": "ipython",
    "version": 3
   },
   "file_extension": ".py",
   "mimetype": "text/x-python",
   "name": "python",
   "nbconvert_exporter": "python",
   "pygments_lexer": "ipython3",
   "version": "3.11.5"
  }
 },
 "nbformat": 4,
 "nbformat_minor": 5
}
