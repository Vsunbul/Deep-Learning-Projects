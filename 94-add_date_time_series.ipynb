{
 "cells": [
  {
   "cell_type": "code",
   "execution_count": 1,
   "id": "f0bf50fa-7a75-4f0f-b343-8c7b9477d7eb",
   "metadata": {},
   "outputs": [],
   "source": [
    "import pandas as pd"
   ]
  },
  {
   "cell_type": "code",
   "execution_count": 2,
   "id": "fbf7e1ab-5121-445b-a1d7-30841c7eb772",
   "metadata": {},
   "outputs": [],
   "source": [
    "import pandas as pd\n",
    "import numpy as np\n",
    "import matplotlib.pyplot as plt\n",
    "import tensorflow as tf\n",
    "from tensorflow import keras\n",
    "from tensorflow.keras import layers"
   ]
  },
  {
   "cell_type": "code",
   "execution_count": 3,
   "id": "f1c886c0-3ab7-4ffa-aea8-d91b67860316",
   "metadata": {},
   "outputs": [
    {
     "data": {
      "text/html": [
       "<div>\n",
       "<style scoped>\n",
       "    .dataframe tbody tr th:only-of-type {\n",
       "        vertical-align: middle;\n",
       "    }\n",
       "\n",
       "    .dataframe tbody tr th {\n",
       "        vertical-align: top;\n",
       "    }\n",
       "\n",
       "    .dataframe thead th {\n",
       "        text-align: right;\n",
       "    }\n",
       "</style>\n",
       "<table border=\"1\" class=\"dataframe\">\n",
       "  <thead>\n",
       "    <tr style=\"text-align: right;\">\n",
       "      <th></th>\n",
       "      <th>Consumption</th>\n",
       "      <th>Temperature</th>\n",
       "    </tr>\n",
       "  </thead>\n",
       "  <tbody>\n",
       "    <tr>\n",
       "      <th>0</th>\n",
       "      <td>551547920.0</td>\n",
       "      <td>6.741935</td>\n",
       "    </tr>\n",
       "    <tr>\n",
       "      <th>1</th>\n",
       "      <td>551886440.0</td>\n",
       "      <td>5.857143</td>\n",
       "    </tr>\n",
       "    <tr>\n",
       "      <th>2</th>\n",
       "      <td>513182950.0</td>\n",
       "      <td>7.225806</td>\n",
       "    </tr>\n",
       "    <tr>\n",
       "      <th>3</th>\n",
       "      <td>281495382.0</td>\n",
       "      <td>12.566667</td>\n",
       "    </tr>\n",
       "    <tr>\n",
       "      <th>4</th>\n",
       "      <td>138625166.0</td>\n",
       "      <td>17.225806</td>\n",
       "    </tr>\n",
       "  </tbody>\n",
       "</table>\n",
       "</div>"
      ],
      "text/plain": [
       "   Consumption  Temperature\n",
       "0  551547920.0     6.741935\n",
       "1  551886440.0     5.857143\n",
       "2  513182950.0     7.225806\n",
       "3  281495382.0    12.566667\n",
       "4  138625166.0    17.225806"
      ]
     },
     "execution_count": 3,
     "metadata": {},
     "output_type": "execute_result"
    }
   ],
   "source": [
    "df = pd.read_excel(\"natural_gas.xlsx\")\n",
    "df.head()"
   ]
  },
  {
   "cell_type": "code",
   "execution_count": 23,
   "id": "e7063332-ff92-4023-af77-0175edf8501b",
   "metadata": {},
   "outputs": [],
   "source": [
    "# Standardization process\n",
    "from sklearn.preprocessing import StandardScaler\n",
    "df = pd.read_excel(\"natural_gas.xlsx\")\n",
    "\n",
    "scaler = StandardScaler()\n",
    "scaler.fit(df.iloc[:-12, :])\n",
    "\n",
    "df = scaler.transform(df)\n",
    "\n",
    "\n",
    "#df = pd.read_excel(\"natural_gas.xlsx\")\n",
    "#mu = df.iloc[: -12, :].mean()\n",
    "#sigma = df.iloc[: -12, :].std()\n",
    "#df = (df - mu)/ sigma"
   ]
  },
  {
   "cell_type": "code",
   "execution_count": 24,
   "id": "e40fa055-6571-420c-9c03-ea7665fe3dea",
   "metadata": {},
   "outputs": [
    {
     "data": {
      "text/plain": [
       "DatetimeIndex(['2004-01-01', '2004-02-01', '2004-03-01', '2004-04-01',\n",
       "               '2004-05-01', '2004-06-01', '2004-07-01', '2004-08-01',\n",
       "               '2004-09-01', '2004-10-01',\n",
       "               ...\n",
       "               '2014-01-01', '2014-02-01', '2014-03-01', '2014-04-01',\n",
       "               '2014-05-01', '2014-06-01', '2014-07-01', '2014-08-01',\n",
       "               '2014-09-01', '2014-10-01'],\n",
       "              dtype='datetime64[ns]', length=130, freq='MS')"
      ]
     },
     "execution_count": 24,
     "metadata": {},
     "output_type": "execute_result"
    }
   ],
   "source": [
    "\n",
    "time_index = pd.date_range(\"2004-01-01\",  periods = len(df), freq= \"MS\")\n",
    "time_index"
   ]
  },
  {
   "cell_type": "code",
   "execution_count": 25,
   "id": "a60aa254-3b28-4b1a-8d86-0a1f085650a9",
   "metadata": {},
   "outputs": [],
   "source": [
    "df = pd.read_excel('natural_gas.xlsx')\n",
    "df[\"year\"] = time_index.year\n",
    "df[\"month\"] = time_index.month.astype(str)\n",
    "df = pd.get_dummies(df, drop_first = True, dtype = \"int\")\n"
   ]
  },
  {
   "cell_type": "code",
   "execution_count": 26,
   "id": "02edf1d3-7841-45b7-9833-4271d3cae1a0",
   "metadata": {},
   "outputs": [
    {
     "name": "stdout",
     "output_type": "stream",
     "text": [
      "(88, 12, 1)\n",
      "(88,)\n"
     ]
    }
   ],
   "source": [
    "import numpy as np\n",
    "import pandas as pd\n",
    "\n",
    "def make_data(data: np.ndarray, lag: int = 12):\n",
    "    \"\"\"\n",
    "    Splits time series data into lagged features (X) and targets (y).\n",
    "\n",
    "    Args:\n",
    "        data (np.ndarray): The time series data.\n",
    "        lag (int): The lag interval, default is 12.\n",
    "\n",
    "    Returns:\n",
    "        Tuple[np.ndarray, np.ndarray]: \n",
    "            - X (np.ndarray): The array containing lagged features.\n",
    "            - y (np.ndarray): The array containing target values to predict.\n",
    "    \"\"\"\n",
    "    X = []\n",
    "    y = []\n",
    "\n",
    "    # Iterate over the data to create lagged features and targets.\n",
    "    # Convert lists to NumPy arrays and return them.\n",
    "    for i in range(len(data) - lag):\n",
    "        X.append(data[i : i + lag])  \n",
    "        y.append(data[i + lag])      \n",
    "   \n",
    "    return np.array(X), np.array(y)\n",
    "\n",
    "# Assuming `df` is a Pandas DataFrame\n",
    "df = pd.DataFrame({\n",
    "    'column_1': np.random.rand(100),  # Example data\n",
    "    'column_2': np.random.rand(100)\n",
    "})\n",
    "\n",
    "# Generate the lagged dataset using the first column of the DataFrame.\n",
    "X, y = make_data(df.iloc[:, 0].values, lag=12)  # Convert the first column to a NumPy array\n",
    "\n",
    "X = X[..., np.newaxis]\n",
    "\n",
    "print(X.shape)  \n",
    "print(y.shape)  \n"
   ]
  },
  {
   "cell_type": "code",
   "execution_count": 27,
   "id": "4f6aef9c-8501-482e-97f2-f1d8aedd814f",
   "metadata": {},
   "outputs": [],
   "source": [
    "\n",
    "X_train = X[:-1]\n",
    "y_train = y[:-1]\n",
    "X_test = X[-1:]\n",
    "y_test = y[-1:]"
   ]
  },
  {
   "cell_type": "code",
   "execution_count": 37,
   "id": "052e4512-dbee-4da1-a87c-598a6424fb0a",
   "metadata": {},
   "outputs": [
    {
     "name": "stdout",
     "output_type": "stream",
     "text": [
      "\u001b[1m1/1\u001b[0m \u001b[32m━━━━━━━━━━━━━━━━━━━━\u001b[0m\u001b[37m\u001b[0m \u001b[1m0s\u001b[0m 219ms/step\n",
      "(1,)\n",
      "nan\n"
     ]
    },
    {
     "name": "stderr",
     "output_type": "stream",
     "text": [
      "C:\\Users\\Hefes\\anaconda\\Lib\\site-packages\\sklearn\\metrics\\_regression.py:1211: UndefinedMetricWarning: R^2 score is not well-defined with less than two samples.\n",
      "  warnings.warn(msg, UndefinedMetricWarning)\n"
     ]
    }
   ],
   "source": [
    "from sklearn.metrics import r2_score\n",
    "# Create the model\n",
    "mdl = models.Sequential()\n",
    "\n",
    "\n",
    "# Add Dense layer to reduce to a single output\n",
    "mdl.add(layers.LSTM(128, input_shape = X_train.shape[1:]))\n",
    "mdl.add(layers.Dense(128, activation=\"relu\"))  # Add some hidden layer(s) if necessary\n",
    "mdl.add(layers.Dense(1, activation=\"linear\"))  # Output layer with 1 unit\n",
    "\n",
    "# Compile the model\n",
    "mdl.compile(optimizer=\"adam\", loss=\"mse\", metrics=[\"mape\"])\n",
    "\n",
    "# Fit the model\n",
    "mdl.fit(X_train, y_train, epochs=30, verbose=0)\n",
    "\n",
    "# Predict and flatten the predictions if necessary\n",
    "y_pred = mdl.predict(X_test)\n",
    "y_pred = y_pred.ravel()\n",
    "\n",
    "# Print shapes\n",
    "print(y_pred.shape)  # This should now match the shape of y_test\n",
    "print(r2_score(y_test, y_pred))\n",
    "\n"
   ]
  },
  {
   "cell_type": "code",
   "execution_count": 21,
   "id": "8e79cc12-98bc-4303-99a0-00b6017ab340",
   "metadata": {},
   "outputs": [
    {
     "data": {
      "image/png": "[encoded data removed]",
      "text/plain": [
       "<Figure size 640x480 with 1 Axes>"
      ]
     },
     "metadata": {},
     "output_type": "display_data"
    }
   ],
   "source": [
    "plt.plot(y_test, \"-ob\", label = \"Gerçek\")\n",
    "plt.plot(y_pred, \"-*r\", label = \"Tahmin\")\n",
    "plt.legend()\n",
    "plt.grid()\n"
   ]
  },
  {
   "cell_type": "code",
   "execution_count": null,
   "id": "abc13bba-8c63-4f58-89f2-663a7bc56033",
   "metadata": {},
   "outputs": [],
   "source": []
  }
 ],
 "metadata": {
  "kernelspec": {
   "display_name": "Python 3 (ipykernel)",
   "language": "python",
   "name": "python3"
  },
  "language_info": {
   "codemirror_mode": {
    "name": "ipython",
    "version": 3
   },
   "file_extension": ".py",
   "mimetype": "text/x-python",
   "name": "python",
   "nbconvert_exporter": "python",
   "pygments_lexer": "ipython3",
   "version": "3.12.4"
  }
 },
 "nbformat": 4,
 "nbformat_minor": 5
}
