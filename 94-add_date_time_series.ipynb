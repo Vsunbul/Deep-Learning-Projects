{
 "cells": [
  {
   "cell_type": "code",
   "execution_count": 2,
   "id": "fbf7e1ab-5121-445b-a1d7-30841c7eb772",
   "metadata": {},
   "outputs": [],
   "source": [
    "import pandas as pd\n",
    "import numpy as np\n",
    "import matplotlib.pyplot as plt\n",
    "import tensorflow as tf\n",
    "from tensorflow import keras\n",
    "from tensorflow.keras import layers"
   ]
  },
  {
   "cell_type": "code",
   "execution_count": 3,
   "id": "f1c886c0-3ab7-4ffa-aea8-d91b67860316",
   "metadata": {},
   "outputs": [
    {
     "data": {
      "text/html": [
       "<div>\n",
       "<style scoped>\n",
       "    .dataframe tbody tr th:only-of-type {\n",
       "        vertical-align: middle;\n",
       "    }\n",
       "\n",
       "    .dataframe tbody tr th {\n",
       "        vertical-align: top;\n",
       "    }\n",
       "\n",
       "    .dataframe thead th {\n",
       "        text-align: right;\n",
       "    }\n",
       "</style>\n",
       "<table border=\"1\" class=\"dataframe\">\n",
       "  <thead>\n",
       "    <tr style=\"text-align: right;\">\n",
       "      <th></th>\n",
       "      <th>Consumption</th>\n",
       "      <th>Temperature</th>\n",
       "    </tr>\n",
       "  </thead>\n",
       "  <tbody>\n",
       "    <tr>\n",
       "      <th>0</th>\n",
       "      <td>551547920.0</td>\n",
       "      <td>6.741935</td>\n",
       "    </tr>\n",
       "    <tr>\n",
       "      <th>1</th>\n",
       "      <td>551886440.0</td>\n",
       "      <td>5.857143</td>\n",
       "    </tr>\n",
       "    <tr>\n",
       "      <th>2</th>\n",
       "      <td>513182950.0</td>\n",
       "      <td>7.225806</td>\n",
       "    </tr>\n",
       "    <tr>\n",
       "      <th>3</th>\n",
       "      <td>281495382.0</td>\n",
       "      <td>12.566667</td>\n",
       "    </tr>\n",
       "    <tr>\n",
       "      <th>4</th>\n",
       "      <td>138625166.0</td>\n",
       "      <td>17.225806</td>\n",
       "    </tr>\n",
       "  </tbody>\n",
       "</table>\n",
       "</div>"
      ],
      "text/plain": [
       "   Consumption  Temperature\n",
       "0  551547920.0     6.741935\n",
       "1  551886440.0     5.857143\n",
       "2  513182950.0     7.225806\n",
       "3  281495382.0    12.566667\n",
       "4  138625166.0    17.225806"
      ]
     },
     "execution_count": 3,
     "metadata": {},
     "output_type": "execute_result"
    }
   ],
   "source": [
    "df = pd.read_excel(\"natural_gas.xlsx\")\n",
    "df.head()"
   ]
  },
  {
   "cell_type": "code",
   "execution_count": 4,
   "id": "e7063332-ff92-4023-af77-0175edf8501b",
   "metadata": {},
   "outputs": [],
   "source": [
    "# Standardization process\n",
    "from sklearn.preprocessing import StandardScaler\n",
    "df = pd.read_excel(\"natural_gas.xlsx\")\n",
    "\n",
    "scaler = StandardScaler()\n",
    "scaler.fit(df.iloc[:-12, :])\n",
    "\n",
    "df = scaler.transform(df)\n",
    "\n",
    "\n",
    "#df = pd.read_excel(\"natural_gas.xlsx\")\n",
    "#mu = df.iloc[: -12, :].mean()\n",
    "#sigma = df.iloc[: -12, :].std()\n",
    "#df = (df - mu)/ sigma"
   ]
  },
  {
   "cell_type": "code",
   "execution_count": 5,
   "id": "e40fa055-6571-420c-9c03-ea7665fe3dea",
   "metadata": {},
   "outputs": [
    {
     "data": {
      "text/plain": [
       "DatetimeIndex(['2004-01-01', '2004-02-01', '2004-03-01', '2004-04-01',\n",
       "               '2004-05-01', '2004-06-01', '2004-07-01', '2004-08-01',\n",
       "               '2004-09-01', '2004-10-01',\n",
       "               ...\n",
       "               '2014-01-01', '2014-02-01', '2014-03-01', '2014-04-01',\n",
       "               '2014-05-01', '2014-06-01', '2014-07-01', '2014-08-01',\n",
       "               '2014-09-01', '2014-10-01'],\n",
       "              dtype='datetime64[ns]', length=130, freq='MS')"
      ]
     },
     "execution_count": 5,
     "metadata": {},
     "output_type": "execute_result"
    }
   ],
   "source": [
    "\n",
    "time_index = pd.date_range(\"2004-01-01\",  periods = len(df), freq= \"MS\")\n",
    "time_index"
   ]
  },
  {
   "cell_type": "code",
   "execution_count": 6,
   "id": "a60aa254-3b28-4b1a-8d86-0a1f085650a9",
   "metadata": {},
   "outputs": [],
   "source": [
    "df = pd.read_excel('natural_gas.xlsx')\n",
    "df[\"year\"] = time_index.year\n",
    "df[\"month\"] = time_index.month.astype(str)\n",
    "df = pd.get_dummies(df, drop_first = True, dtype = \"int\")\n"
   ]
  },
  {
   "cell_type": "code",
   "execution_count": 7,
   "id": "49e4a8ea-ca3f-4f38-8642-0795edb0bf29",
   "metadata": {},
   "outputs": [
    {
     "data": {
      "text/plain": [
       "array([[ 0.74673476, -1.24252117, -1.56005194, ..., -0.30429031,\n",
       "        -0.30429031, -0.30429031],\n",
       "       [ 0.74806104, -1.36509956, -1.56005194, ..., -0.30429031,\n",
       "        -0.30429031, -0.30429031],\n",
       "       [ 0.59642615, -1.17548612, -1.56005194, ..., -0.30429031,\n",
       "        -0.30429031, -0.30429031],\n",
       "       ...,\n",
       "       [-0.81840229,  1.61764123,  1.96650225, ..., -0.30429031,\n",
       "         3.28633535, -0.30429031],\n",
       "       [-0.81381018,  1.16686771,  1.96650225, ..., -0.30429031,\n",
       "        -0.30429031,  3.28633535],\n",
       "       [-0.29164949,  0.22778106,  1.96650225, ..., -0.30429031,\n",
       "        -0.30429031, -0.30429031]])"
      ]
     },
     "execution_count": 7,
     "metadata": {},
     "output_type": "execute_result"
    }
   ],
   "source": [
    "scaler = StandardScaler()\n",
    "scaler.fit(df.iloc[: -12, :])\n",
    "df = scaler.transform(df)\n",
    "df\n"
   ]
  },
  {
   "cell_type": "code",
   "execution_count": 13,
   "id": "02edf1d3-7841-45b7-9833-4271d3cae1a0",
   "metadata": {},
   "outputs": [
    {
     "name": "stdout",
     "output_type": "stream",
     "text": [
      "(107, 12, 14)\n",
      "(107, 12)\n"
     ]
    }
   ],
   "source": [
    "import numpy as np\n",
    "import pandas as pd\n",
    "\n",
    "def make_data(data, lag = 3, target_col = 0, period = 2):\n",
    "    \"\"\"\n",
    "    Splits time series data into lagged features (X) and targets (y).\n",
    "\n",
    "    Args:\n",
    "        data (np.ndarray): The time series data.\n",
    "        lag (int): The lag interval, default is 12.\n",
    "\n",
    "    Returns:\n",
    "        Tuple[np.ndarray, np.ndarray]: \n",
    "            - X (np.ndarray): The array containing lagged features.\n",
    "            - y (np.ndarray): The array containing target values to predict.\n",
    "    \"\"\"\n",
    "    X = []\n",
    "    y = []\n",
    "\n",
    "    # Iterate over the data to create lagged features and targets.\n",
    "    # Convert lists to NumPy arrays and return them.\n",
    "    for i in range(len(data) - lag - period + 1):\n",
    "        X.append(data[i : i + lag] ) \n",
    "        y.append(data[i + lag : i + lag + period, target_col])      \n",
    "   \n",
    "    return np.array(X), np.array(y)\n",
    "\n",
    "\n",
    "# Generate the lagged dataset using the first column of the DataFrame.\n",
    "X, y = make_data(df, lag = 12, target_col = 0, period = 12)  # Convert the first column to a NumPy array\n",
    "\n",
    "#X = X[..., np.newaxis]\n",
    "\n",
    "print(X.shape)  \n",
    "print(y.shape)  \n"
   ]
  },
  {
   "cell_type": "code",
   "execution_count": 14,
   "id": "4f6aef9c-8501-482e-97f2-f1d8aedd814f",
   "metadata": {},
   "outputs": [],
   "source": [
    "# Defining train and test values\n",
    "X_train = X[:-1]\n",
    "y_train = y[:-1]\n",
    "X_test = X[-1:]\n",
    "y_test = y[-1:]"
   ]
  },
  {
   "cell_type": "code",
   "execution_count": 18,
   "id": "b8d8df9c-a4e5-4b05-af41-8e1d7091d858",
   "metadata": {},
   "outputs": [
    {
     "name": "stderr",
     "output_type": "stream",
     "text": [
      "C:\\Users\\Hefes\\anaconda\\Lib\\site-packages\\keras\\src\\layers\\rnn\\rnn.py:204: UserWarning: Do not pass an `input_shape`/`input_dim` argument to a layer. When using Sequential models, prefer using an `Input(shape)` object as the first layer in the model instead.\n",
      "  super().__init__(**kwargs)\n"
     ]
    },
    {
     "name": "stdout",
     "output_type": "stream",
     "text": [
      "\u001b[1m1/1\u001b[0m \u001b[32m━━━━━━━━━━━━━━━━━━━━\u001b[0m\u001b[37m\u001b[0m \u001b[1m0s\u001b[0m 222ms/step\n",
      "0.946552067510561\n"
     ]
    }
   ],
   "source": [
    "# Create model\n",
    "mdl = keras.Sequential()\n",
    "\n",
    "# Add Dense layer to reduce to a single output\n",
    "mdl.add(layers.LSTM(128, input_shape = X_train.shape[1:]))\n",
    "mdl.add(layers.Dense(128, activation = \"relu\"))\n",
    "mdl.add(layers.Dense(12, activation = \"linear\"))\n",
    "\n",
    "# Compile the model\n",
    "mdl.compile(optimizer = \"adam\", loss = \"mse\", metrics = [\"mape\"])\n",
    "\n",
    "# Fit the model\n",
    "mdl.fit(X_train, y_train, epochs = 30, verbose = 0)\n",
    "\n",
    "# Predict model \n",
    "y_pred = mdl.predict(X_test)\n",
    "\n",
    "y_pred = y_pred.ravel()\n",
    "y_test = y_test.ravel()\n",
    "\n",
    "print(r2_score(y_test, y_pred))\n"
   ]
  },
  {
   "cell_type": "code",
   "execution_count": 17,
   "id": "8e79cc12-98bc-4303-99a0-00b6017ab340",
   "metadata": {},
   "outputs": [
    {
     "data": {
      "image/png": "[encoded data removed]",
      "text/plain": [
       "<Figure size 640x480 with 1 Axes>"
      ]
     },
     "metadata": {},
     "output_type": "display_data"
    }
   ],
   "source": [
    "plt.plot(y_test, \"-ob\", label = \"Gerçek\")\n",
    "plt.plot(y_pred, \"-*r\", label = \"Tahmin\")\n",
    "plt.legend()\n",
    "plt.grid()\n"
   ]
  },
  {
   "cell_type": "code",
   "execution_count": null,
   "id": "abc13bba-8c63-4f58-89f2-663a7bc56033",
   "metadata": {},
   "outputs": [],
   "source": []
  }
 ],
 "metadata": {
  "kernelspec": {
   "display_name": "Python 3 (ipykernel)",
   "language": "python",
   "name": "python3"
  },
  "language_info": {
   "codemirror_mode": {
    "name": "ipython",
    "version": 3
   },
   "file_extension": ".py",
   "mimetype": "text/x-python",
   "name": "python",
   "nbconvert_exporter": "python",
   "pygments_lexer": "ipython3",
   "version": "3.12.4"
  }
 },
 "nbformat": 4,
 "nbformat_minor": 5
}
